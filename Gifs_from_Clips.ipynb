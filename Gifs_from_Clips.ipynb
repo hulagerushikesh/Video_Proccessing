{
 "cells": [
  {
   "cell_type": "markdown",
   "id": "02c38dff",
   "metadata": {},
   "source": [
    "As so far we have learnt about images to video and video to images. Now we will be focusing on the next part which is more intersting and it is a Gifs from the given videos or 'Gifs from Clips'."
   ]
  },
  {
   "cell_type": "code",
   "execution_count": 1,
   "id": "5d873824",
   "metadata": {},
   "outputs": [],
   "source": [
    "from moviepy.editor import *\n",
    "from moviepy.video.fx.all import crop \n",
    "\n",
    "p1 = os.path.join('data')\n",
    "# getting the path for the  inputs\n",
    "p2 = os.path.join(p1 , 'samples')\n",
    "in_path = os.path.join(p2 , 'inputs')\n",
    "\n",
    "out_path = os.path.join(p2 , 'outputs')\n",
    "\n",
    "thumbnails_dir = os.path.join(in_path , 'thumbnails')\n",
    "os.makedirs(thumbnails_dir , exist_ok=True)\n",
    "\n",
    "thumbnails_per_frame_dir = os.path.join(in_path , 'thumbnails_per_frame')\n",
    "os.makedirs(thumbnails_per_frame_dir , exist_ok=True)\n"
   ]
  },
  {
   "cell_type": "code",
   "execution_count": 2,
   "id": "fa686c3e",
   "metadata": {},
   "outputs": [],
   "source": [
    "# getting the source path where we can get the inputs :\n",
    "source_path = os.path.join(in_path , 'sample.mp4')"
   ]
  },
  {
   "cell_type": "code",
   "execution_count": 3,
   "id": "91622476",
   "metadata": {},
   "outputs": [],
   "source": [
    "# Create an output path to store the gifs :\n",
    "gif_dir = os.path.join(out_path , 'gifs')\n",
    "os.makedirs(gif_dir , exist_ok = True)\n",
    "gif_path = os.path.join(gif_dir , 'my_gifs.gif')"
   ]
  },
  {
   "cell_type": "code",
   "execution_count": 4,
   "id": "415ac7d9",
   "metadata": {},
   "outputs": [
    {
     "name": "stderr",
     "output_type": "stream",
     "text": [
      "\r",
      "t:   0%|                                                                             | 0/200 [00:00<?, ?it/s, now=None]"
     ]
    },
    {
     "name": "stdout",
     "output_type": "stream",
     "text": [
      "MoviePy - Building file  data\\samples\\outputs\\gifs\\my_gifs.gif\n",
      "MoviePy - - Generating GIF frames.\n"
     ]
    },
    {
     "name": "stderr",
     "output_type": "stream",
     "text": [
      "                                                                                                                       "
     ]
    },
    {
     "name": "stdout",
     "output_type": "stream",
     "text": [
      "MoviePy - - File ready: data\\samples\\outputs\\gifs\\my_gifs.gif.\n"
     ]
    },
    {
     "name": "stderr",
     "output_type": "stream",
     "text": [
      "\r"
     ]
    }
   ],
   "source": [
    "# Noe lets create a subclips (gifs) :\n",
    "clip = VideoFileClip(source_path)\n",
    "fps = clip.reader.fps\n",
    "sub_clip = clip.subclip(10 , 20)\n",
    "sub_clip = sub_clip.resize(width = 320)\n",
    "sub_clip.write_gif(gif_path , fps = 20, program = 'ffmpeg' )"
   ]
  },
  {
   "cell_type": "code",
   "execution_count": 5,
   "id": "6be8c055",
   "metadata": {},
   "outputs": [
    {
     "name": "stderr",
     "output_type": "stream",
     "text": [
      "t:   1%|▋                                                                    | 3/300 [00:00<00:12, 24.40it/s, now=None]"
     ]
    },
    {
     "name": "stdout",
     "output_type": "stream",
     "text": [
      "MoviePy - Building file  data\\samples\\outputs\\gifs\\my_gifs2.gif\n",
      "MoviePy - - Generating GIF frames.\n"
     ]
    },
    {
     "name": "stderr",
     "output_type": "stream",
     "text": [
      "                                                                                                                       "
     ]
    },
    {
     "name": "stdout",
     "output_type": "stream",
     "text": [
      "MoviePy - - File ready: data\\samples\\outputs\\gifs\\my_gifs2.gif.\n"
     ]
    },
    {
     "name": "stderr",
     "output_type": "stream",
     "text": [
      "\r"
     ]
    }
   ],
   "source": [
    "# Lets create new gif having proper dimensions :\n",
    "gif_path = os.path.join(gif_dir , 'my_gifs2.gif')\n",
    "\n",
    "w , h = clip.size\n",
    "sub_clip2 = clip.subclip(10 ,20)\n",
    "cropped_clip = crop(sub_clip2 , width=200 , height=320, x_center=w/2 , y_center=h/2)\n",
    "\n",
    "cropped_clip.write_gif(gif_path , fps = fps, program = 'ffmpeg' )"
   ]
  },
  {
   "cell_type": "code",
   "execution_count": null,
   "id": "707b7c9a",
   "metadata": {},
   "outputs": [],
   "source": []
  }
 ],
 "metadata": {
  "kernelspec": {
   "display_name": "Python 3",
   "language": "python",
   "name": "python3"
  },
  "language_info": {
   "codemirror_mode": {
    "name": "ipython",
    "version": 3
   },
   "file_extension": ".py",
   "mimetype": "text/x-python",
   "name": "python",
   "nbconvert_exporter": "python",
   "pygments_lexer": "ipython3",
   "version": "3.8.8"
  }
 },
 "nbformat": 4,
 "nbformat_minor": 5
}
