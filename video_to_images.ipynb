{
 "cells": [
  {
   "cell_type": "markdown",
   "id": "656096fc",
   "metadata": {},
   "source": [
    "# VIDEO , AUDIO AND IMAGE PROCESSING "
   ]
  },
  {
   "cell_type": "markdown",
   "id": "6b8e1cb9",
   "metadata": {},
   "source": [
    "# Day 1 in python  ::   Video , Audio and Image processing (streamming) using Moviepy with the help  of ffmpeg and ImageMagic"
   ]
  },
  {
   "cell_type": "raw",
   "id": "de2af175",
   "metadata": {},
   "source": [
    "# Today we are going to take a view on MoviePy library and using this we will be dealing different formats of data :\n",
    "# So we will be doing data streaming."
   ]
  },
  {
   "cell_type": "code",
   "execution_count": 1,
   "id": "41c53c28",
   "metadata": {},
   "outputs": [],
   "source": [
    "# Now we're gonna start off by creating Thumbnails from any given images :\n",
    "# This is actually very useful process in order to automate the process of creating thumbnails."
   ]
  },
  {
   "cell_type": "code",
   "execution_count": 2,
   "id": "f09a2390",
   "metadata": {},
   "outputs": [],
   "source": [
    "import os\n",
    "p1 = os.path.join('data')"
   ]
  },
  {
   "cell_type": "code",
   "execution_count": 3,
   "id": "a84d6beb",
   "metadata": {},
   "outputs": [],
   "source": [
    "# getting the path for the  inputs\n",
    "p2 = os.path.join(p1 , 'samples')\n",
    "path = os.path.join(p2 , 'inputs')"
   ]
  },
  {
   "cell_type": "code",
   "execution_count": 4,
   "id": "79a974f5",
   "metadata": {},
   "outputs": [],
   "source": [
    "# getting the source path where we can get the inputs\n",
    "source_path = os.path.join(path , 'sample.mp4')"
   ]
  },
  {
   "cell_type": "code",
   "execution_count": 5,
   "id": "fa7b05d4",
   "metadata": {},
   "outputs": [],
   "source": [
    "# Now import everything from the moviepy.editor :\n",
    "from moviepy.editor import *"
   ]
  },
  {
   "cell_type": "code",
   "execution_count": 6,
   "id": "926782f4",
   "metadata": {},
   "outputs": [
    {
     "name": "stdout",
     "output_type": "stream",
     "text": [
      "frames per second :  30.0\n",
      "no. of frames :  906\n",
      "duration of the video(seconds):  30.17\n"
     ]
    }
   ],
   "source": [
    "# Now we will create a clip whci is basically a object come from the video file (the scene of moviepy with the webcam is not so\n",
    "# good thats why here we download the video first and then use it for processing) :\n",
    "\n",
    "clip = VideoFileClip(source_path)\n",
    "print('frames per second : ' , clip.reader.fps)\n",
    "print('no. of frames : ' , clip.reader.nframes)\n",
    "print('duration of the video(seconds): ' , clip.duration)  # duration = nframes / fps"
   ]
  },
  {
   "cell_type": "code",
   "execution_count": 7,
   "id": "831b9107",
   "metadata": {},
   "outputs": [
    {
     "name": "stdout",
     "output_type": "stream",
     "text": [
      "frames at 0 the second saved at data\\samples\\inputs\\thumbnails\\0.jpg\n",
      "frames at 1 the second saved at data\\samples\\inputs\\thumbnails\\1.jpg\n",
      "frames at 2 the second saved at data\\samples\\inputs\\thumbnails\\2.jpg\n",
      "frames at 3 the second saved at data\\samples\\inputs\\thumbnails\\3.jpg\n",
      "frames at 4 the second saved at data\\samples\\inputs\\thumbnails\\4.jpg\n",
      "frames at 5 the second saved at data\\samples\\inputs\\thumbnails\\5.jpg\n",
      "frames at 6 the second saved at data\\samples\\inputs\\thumbnails\\6.jpg\n",
      "frames at 7 the second saved at data\\samples\\inputs\\thumbnails\\7.jpg\n",
      "frames at 8 the second saved at data\\samples\\inputs\\thumbnails\\8.jpg\n",
      "frames at 9 the second saved at data\\samples\\inputs\\thumbnails\\9.jpg\n",
      "frames at 10 the second saved at data\\samples\\inputs\\thumbnails\\10.jpg\n",
      "frames at 11 the second saved at data\\samples\\inputs\\thumbnails\\11.jpg\n",
      "frames at 12 the second saved at data\\samples\\inputs\\thumbnails\\12.jpg\n",
      "frames at 13 the second saved at data\\samples\\inputs\\thumbnails\\13.jpg\n",
      "frames at 14 the second saved at data\\samples\\inputs\\thumbnails\\14.jpg\n",
      "frames at 15 the second saved at data\\samples\\inputs\\thumbnails\\15.jpg\n",
      "frames at 16 the second saved at data\\samples\\inputs\\thumbnails\\16.jpg\n",
      "frames at 17 the second saved at data\\samples\\inputs\\thumbnails\\17.jpg\n",
      "frames at 18 the second saved at data\\samples\\inputs\\thumbnails\\18.jpg\n",
      "frames at 19 the second saved at data\\samples\\inputs\\thumbnails\\19.jpg\n",
      "frames at 20 the second saved at data\\samples\\inputs\\thumbnails\\20.jpg\n",
      "frames at 21 the second saved at data\\samples\\inputs\\thumbnails\\21.jpg\n",
      "frames at 22 the second saved at data\\samples\\inputs\\thumbnails\\22.jpg\n",
      "frames at 23 the second saved at data\\samples\\inputs\\thumbnails\\23.jpg\n",
      "frames at 24 the second saved at data\\samples\\inputs\\thumbnails\\24.jpg\n",
      "frames at 25 the second saved at data\\samples\\inputs\\thumbnails\\25.jpg\n",
      "frames at 26 the second saved at data\\samples\\inputs\\thumbnails\\26.jpg\n",
      "frames at 27 the second saved at data\\samples\\inputs\\thumbnails\\27.jpg\n",
      "frames at 28 the second saved at data\\samples\\inputs\\thumbnails\\28.jpg\n",
      "frames at 29 the second saved at data\\samples\\inputs\\thumbnails\\29.jpg\n",
      "frames at 30 the second saved at data\\samples\\inputs\\thumbnails\\30.jpg\n"
     ]
    }
   ],
   "source": [
    "# now the next thing is to turn the each frame into its own image :\n",
    "# there are several ways to do that , but here we are just taking the duration and get the images for every second.\n",
    "\n",
    "# Now there is another way to make own image of the individual frame is by using pillow library , so lets check out how its \n",
    "# works :\n",
    "# Pillow is easily takes the numpy array and turn it into an actual image\n",
    "\n",
    "from PIL import Image\n",
    "\n",
    "thumbnails_dir = os.path.join(path , 'thumbnails')\n",
    "os.makedirs(thumbnails_dir , exist_ok=True)\n",
    "dur = clip.duration  # clip.reader.duration\n",
    "\n",
    "int_dur = int(dur) # in order to interpreted as integer in the range call.\n",
    "\n",
    "for i in range(0 , int_dur + 1):\n",
    "    frame = clip.get_frame(i) \n",
    "#     print(frame)     # using simple way\n",
    "    \n",
    "    \n",
    "    # using pillow library\n",
    "    new_img_filepath = os.path.join(thumbnails_dir , f\"{i}.jpg\")\n",
    "    print(f'frames at {i} the second saved at {new_img_filepath}')\n",
    "    new_img = Image.fromarray(frame)\n",
    "    new_img.save(new_img_filepath)\n",
    "    \n",
    "    "
   ]
  },
  {
   "cell_type": "raw",
   "id": "5c094cff",
   "metadata": {},
   "source": [
    "above we are able to the frame for the each second -->\n",
    "so we can at the ith second we get the numpy array --> this numpy array giving us the color values for each individual pixel\n",
    "(and it is very helpful in the ML and computer vision field to grab the images)"
   ]
  },
  {
   "cell_type": "code",
   "execution_count": 8,
   "id": "ae67de6c",
   "metadata": {},
   "outputs": [],
   "source": [
    "# Now create a another directory to stores the frames :\n",
    "\n",
    "thumbnails_per_frame_dir = os.path.join(path , 'thumbnails_per_frame')\n",
    "os.makedirs(thumbnails_per_frame_dir , exist_ok=True)\n",
    "\n",
    "fps = clip.reader.fps\n",
    "nframes = clip.reader.nframes\n",
    "seconds = nframes / (fps * 1.0)\n",
    "\n",
    "for i , frame in enumerate(clip.iter_frames()):\n",
    "    # frame = clip.get_frame(i) \n",
    "    if i % fps == 0:\n",
    "        curr_ms = (i / fps) * 1000   # in mili seconds\n",
    "        new_img_filepath1 = os.path.join(thumbnails_per_frame_dir , f\"{curr_ms}.jpg\")\n",
    "        # print(f'frames at {i} the second saved at {new_img_filepath}')\n",
    "        new_img = Image.fromarray(frame)\n",
    "        new_img.save(new_img_filepath1)\n"
   ]
  },
  {
   "cell_type": "code",
   "execution_count": 9,
   "id": "c30cd75a",
   "metadata": {},
   "outputs": [],
   "source": [
    "# now lets make another directory for teh half second thumbnails :\n",
    "thumbnails_per_half_sec_dir = os.path.join(path , 'thumbnails_per_half_sec')\n",
    "os.makedirs(thumbnails_per_half_sec_dir , exist_ok=True)\n",
    "\n",
    "fps = clip.reader.fps\n",
    "nframes = clip.reader.nframes\n",
    "seconds = nframes / (fps * 1.0)\n",
    "\n",
    "for i , frame in enumerate(clip.iter_frames()):\n",
    "    # frame = clip.get_frame(i) \n",
    "    fphs = int(fps/2.0)\n",
    "    if i % fphs == 0:\n",
    "        curr_ms = (i / fps) * 1000   # in mili seconds\n",
    "        new_img_filepath1 = os.path.join(thumbnails_per_half_sec_dir , f\"{curr_ms}.jpg\")\n",
    "        # print(f'frames at {i} the second saved at {new_img_filepath}')\n",
    "        new_img = Image.fromarray(frame)\n",
    "        new_img.save(new_img_filepath1)\n"
   ]
  },
  {
   "cell_type": "code",
   "execution_count": null,
   "id": "5c48d69a",
   "metadata": {},
   "outputs": [],
   "source": []
  }
 ],
 "metadata": {
  "kernelspec": {
   "display_name": "Python 3",
   "language": "python",
   "name": "python3"
  },
  "language_info": {
   "codemirror_mode": {
    "name": "ipython",
    "version": 3
   },
   "file_extension": ".py",
   "mimetype": "text/x-python",
   "name": "python",
   "nbconvert_exporter": "python",
   "pygments_lexer": "ipython3",
   "version": "3.8.8"
  }
 },
 "nbformat": 4,
 "nbformat_minor": 5
}
