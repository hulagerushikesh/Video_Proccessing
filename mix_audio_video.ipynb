{
 "cells": [
  {
   "cell_type": "code",
   "execution_count": 2,
   "id": "604cb53d",
   "metadata": {},
   "outputs": [],
   "source": [
    "from moviepy.editor import *\n",
    "from moviepy.video.fx.all import crop \n",
    "\n",
    "p1 = os.path.join('data')\n",
    "# getting the path for the  inputs\n",
    "p2 = os.path.join(p1 , 'samples')\n",
    "in_path = os.path.join(p2 , 'inputs')\n",
    "\n",
    "out_path = os.path.join(p2 , 'outputs')\n",
    "\n",
    "mix_audio_dir = os.path.join(in_path , 'mix_audio')\n",
    "os.makedirs(mix_audio_dir , exist_ok=True)\n"
   ]
  },
  {
   "cell_type": "code",
   "execution_count": 9,
   "id": "429e42e4",
   "metadata": {},
   "outputs": [],
   "source": [
    "# getting the source path where we can get the inputs :\n",
    "source_path = os.path.join(in_path , 'sample.mp4')\n",
    "\n",
    "# Make a file path for the audio :\n",
    "audio_path = os.path.join(mix_audio_dir , 'og.mp3')"
   ]
  },
  {
   "cell_type": "code",
   "execution_count": 10,
   "id": "0c44fe62",
   "metadata": {},
   "outputs": [
    {
     "name": "stderr",
     "output_type": "stream",
     "text": [
      "chunk:   0%|▎                                                                | 3/666 [00:00<00:37, 17.45it/s, now=None]"
     ]
    },
    {
     "name": "stdout",
     "output_type": "stream",
     "text": [
      "MoviePy - Writing audio in data\\samples\\inputs\\mix_audio\\og.mp3\n"
     ]
    },
    {
     "name": "stderr",
     "output_type": "stream",
     "text": [
      "                                                                                                                       "
     ]
    },
    {
     "name": "stdout",
     "output_type": "stream",
     "text": [
      "MoviePy - Done.\n"
     ]
    },
    {
     "name": "stderr",
     "output_type": "stream",
     "text": [
      "\r"
     ]
    }
   ],
   "source": [
    "clip = VideoFileClip(source_path)\n",
    "original_audio = clip.audio\n",
    "original_audio.write_audiofile(audio_path)"
   ]
  },
  {
   "cell_type": "code",
   "execution_count": null,
   "id": "585dec55",
   "metadata": {},
   "outputs": [],
   "source": []
  }
 ],
 "metadata": {
  "kernelspec": {
   "display_name": "Python 3",
   "language": "python",
   "name": "python3"
  },
  "language_info": {
   "codemirror_mode": {
    "name": "ipython",
    "version": 3
   },
   "file_extension": ".py",
   "mimetype": "text/x-python",
   "name": "python",
   "nbconvert_exporter": "python",
   "pygments_lexer": "ipython3",
   "version": "3.8.8"
  }
 },
 "nbformat": 4,
 "nbformat_minor": 5
}
