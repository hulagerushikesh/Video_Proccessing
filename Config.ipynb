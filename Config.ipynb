{
 "cells": [
  {
   "cell_type": "code",
   "execution_count": null,
   "id": "d0b4bb16",
   "metadata": {},
   "outputs": [],
   "source": [
    "import os\n",
    "\n",
    "ABS_PATH = os.path.abspath(__file__)\n",
    "BASE_DIR = os.path.dirname(ABS_PATH)\n",
    "DATA_DIR = os.path.join(BASE_DIR, \"data\")\n",
    "SAMPLE_DIR = os.path.join(DATA_DIR, \"samples\")\n",
    "SAMPLE_INPUTS = os.path.join(SAMPLE_DIR, \"inputs\")\n",
    "SAMPLE_OUTPUTS = os.path.join(SAMPLE_DIR, 'outputs')"
   ]
  },
  {
   "cell_type": "code",
   "execution_count": null,
   "id": "4dee5cb7",
   "metadata": {},
   "outputs": [],
   "source": []
  },
  {
   "cell_type": "code",
   "execution_count": null,
   "id": "29e2d0d0",
   "metadata": {},
   "outputs": [],
   "source": []
  }
 ],
 "metadata": {
  "kernelspec": {
   "display_name": "Python 3",
   "language": "python",
   "name": "python3"
  },
  "language_info": {
   "codemirror_mode": {
    "name": "ipython",
    "version": 3
   },
   "file_extension": ".py",
   "mimetype": "text/x-python",
   "name": "python",
   "nbconvert_exporter": "python",
   "pygments_lexer": "ipython3",
   "version": "3.8.8"
  }
 },
 "nbformat": 4,
 "nbformat_minor": 5
}
